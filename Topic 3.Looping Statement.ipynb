{
 "cells": [
  {
   "cell_type": "markdown",
   "id": "3c7bd486",
   "metadata": {},
   "source": [
    "## Que.1 Write program to print \"Hello Python\" ten times."
   ]
  },
  {
   "cell_type": "code",
   "execution_count": 1,
   "id": "37abcc19",
   "metadata": {},
   "outputs": [
    {
     "name": "stdout",
     "output_type": "stream",
     "text": [
      "Hello Python\n",
      "Hello Python\n",
      "Hello Python\n",
      "Hello Python\n",
      "Hello Python\n",
      "Hello Python\n",
      "Hello Python\n",
      "Hello Python\n",
      "Hello Python\n",
      "Hello Python\n"
     ]
    }
   ],
   "source": [
    "for i in range(10):\n",
    "    print(\"Hello Python\")"
   ]
  },
  {
   "cell_type": "markdown",
   "id": "0a8c4072",
   "metadata": {},
   "source": [
    "## Que .2 Write a program to print number from 1 to 10."
   ]
  },
  {
   "cell_type": "code",
   "execution_count": 5,
   "id": "15b91967",
   "metadata": {},
   "outputs": [
    {
     "name": "stdout",
     "output_type": "stream",
     "text": [
      "1,2,3,4,5,6,7,8,9,10,"
     ]
    }
   ],
   "source": [
    "for i in range(1,11):\n",
    "    print(i,end=\",\")"
   ]
  },
  {
   "cell_type": "markdown",
   "id": "f1d09888",
   "metadata": {},
   "source": [
    "## Que.3 write a program to print of sum of first ten number."
   ]
  },
  {
   "cell_type": "code",
   "execution_count": 6,
   "id": "9bf93294",
   "metadata": {},
   "outputs": [
    {
     "name": "stdout",
     "output_type": "stream",
     "text": [
      "The sum of first ten number is.= 55\n"
     ]
    }
   ],
   "source": [
    "sum = 0\n",
    "for i in range(1,11):\n",
    "    sum +=i\n",
    "print(\"The sum of first ten number is.=\", sum)"
   ]
  },
  {
   "cell_type": "markdown",
   "id": "4d5733ed",
   "metadata": {},
   "source": [
    "## Que.4 Write a program to print n number entered by the user"
   ]
  },
  {
   "cell_type": "code",
   "execution_count": 9,
   "id": "1bd969f1",
   "metadata": {},
   "outputs": [
    {
     "name": "stdout",
     "output_type": "stream",
     "text": [
      "enter the number. 5\n",
      "1\n",
      "2\n",
      "3\n",
      "4\n",
      "5\n"
     ]
    }
   ],
   "source": [
    "n=int(input(\"enter the number. \"))\n",
    "for i in range(n):\n",
    "    print(i+1)"
   ]
  },
  {
   "cell_type": "markdown",
   "id": "27ed16ed",
   "metadata": {},
   "source": [
    "## Que . 5 Write a program to print sum of n numbers."
   ]
  },
  {
   "cell_type": "code",
   "execution_count": 3,
   "id": "5ff6919e",
   "metadata": {},
   "outputs": [
    {
     "name": "stdout",
     "output_type": "stream",
     "text": [
      "Enter the number. 5\n",
      "the Sum of given number is.  0\n",
      "the Sum of given number is.  1\n",
      "the Sum of given number is.  3\n",
      "the Sum of given number is.  6\n",
      "the Sum of given number is.  10\n"
     ]
    }
   ],
   "source": [
    "n=int(input('Enter the number. '))\n",
    "sum=0\n",
    "for i in range(n):\n",
    "    sum+=i\n",
    "    print(\"the Sum of given number is. \",sum)"
   ]
  },
  {
   "cell_type": "markdown",
   "id": "e335dc46",
   "metadata": {},
   "source": [
    "## Que .6 Write program to print table of a number"
   ]
  },
  {
   "cell_type": "code",
   "execution_count": 32,
   "id": "77968bba",
   "metadata": {},
   "outputs": [
    {
     "name": "stdout",
     "output_type": "stream",
     "text": [
      "Enter the number for table.: 7\n",
      "7\n",
      "14\n",
      "21\n",
      "28\n",
      "35\n",
      "42\n",
      "49\n",
      "56\n",
      "63\n",
      "70\n"
     ]
    }
   ],
   "source": [
    "n = int(input(\"Enter the number for table.: \"))\n",
    "for i in range(1,11):\n",
    "    x=n*i\n",
    "    print(x)"
   ]
  },
  {
   "cell_type": "markdown",
   "id": "6bc819dd",
   "metadata": {},
   "source": [
    "## Que. 7 Write a program to calculate the factorial of a number."
   ]
  },
  {
   "cell_type": "code",
   "execution_count": 23,
   "id": "50012f49",
   "metadata": {},
   "outputs": [
    {
     "name": "stdout",
     "output_type": "stream",
     "text": [
      "enter the number for factorial.: 5\n",
      "The factorial of given number is.  120\n"
     ]
    }
   ],
   "source": [
    "n=int(input(\"enter the number for factorial.: \"))\n",
    "factorial = 1\n",
    "for i in range(1,n+1):\n",
    "    factorial *=i\n",
    "print(\"The factorial of given number is. \",factorial)"
   ]
  },
  {
   "cell_type": "markdown",
   "id": "1311ce4a",
   "metadata": {},
   "source": [
    "## Que 8 Write a program to print even number between 1 to 100."
   ]
  },
  {
   "cell_type": "code",
   "execution_count": 4,
   "id": "634b678c",
   "metadata": {},
   "outputs": [
    {
     "name": "stdout",
     "output_type": "stream",
     "text": [
      "2,4,6,8,10,12,14,16,18,20,22,24,26,28,30,32,34,36,38,40,42,44,46,48,50,52,54,56,58,60,62,64,66,68,70,72,74,76,78,80,82,84,86,88,90,92,94,96,98,"
     ]
    }
   ],
   "source": [
    "for i in range(1,100):\n",
    "    if i % 2 ==0:\n",
    "        print(i,end=\",\")"
   ]
  },
  {
   "cell_type": "markdown",
   "id": "a7feadd3",
   "metadata": {},
   "source": [
    "## Que 9 Write a program to print odd number between 1 to 100."
   ]
  },
  {
   "cell_type": "code",
   "execution_count": 2,
   "id": "574e63cf",
   "metadata": {},
   "outputs": [
    {
     "name": "stdout",
     "output_type": "stream",
     "text": [
      "1 3 5 7 9 11 13 15 17 19 21 23 25 27 29 31 33 35 37 39 41 43 45 47 49 51 53 55 57 59 61 63 65 67 69 71 73 75 77 79 81 83 85 87 89 91 93 95 97 99 "
     ]
    }
   ],
   "source": [
    "for i in range(1,100):\n",
    "    if i % 2 !=0:\n",
    "        print(i, end=\" \")"
   ]
  },
  {
   "cell_type": "markdown",
   "id": "aa8cff32",
   "metadata": {},
   "source": [
    "## Que 10 Write a program to check whether a given number is palindrome or not."
   ]
  },
  {
   "cell_type": "code",
   "execution_count": 7,
   "id": "73acc368",
   "metadata": {},
   "outputs": [
    {
     "name": "stdout",
     "output_type": "stream",
     "text": [
      "Enter a number: 31\n",
      "31 is not a palindrome\n"
     ]
    }
   ],
   "source": [
    "n = int(input(\"Enter a number: \"))\n",
    "temp = n\n",
    "reverse = 0\n",
    "while temp > 0:\n",
    "    digit = temp % 10\n",
    "    reverse = reverse * 10 + digit\n",
    "    temp = temp // 10\n",
    "if n == reverse:\n",
    "    print(n, \"is a palindrome\")\n",
    "else:\n",
    "    print(n, \"is not a palindrome\")"
   ]
  },
  {
   "cell_type": "markdown",
   "id": "17ae3175",
   "metadata": {},
   "source": [
    "## Que.11 Write a program to find factors of a number"
   ]
  },
  {
   "cell_type": "code",
   "execution_count": 9,
   "id": "85f0fda3",
   "metadata": {},
   "outputs": [
    {
     "name": "stdout",
     "output_type": "stream",
     "text": [
      "Enter the number.: 120\n",
      "Factors of given number is.   120\n",
      "1,2,3,4,5,6,8,10,12,15,20,24,30,40,60,120,"
     ]
    }
   ],
   "source": [
    "num=int(input(\"Enter the number.: \"))\n",
    "print(\"Factors of given number is.  \",num)\n",
    "for i in range(1,num+1):\n",
    "    if num % i ==0:\n",
    "        print(i,end=\",\")"
   ]
  },
  {
   "cell_type": "markdown",
   "id": "69900142",
   "metadata": {},
   "source": [
    "## Que.12 Write a program to print the reverse of a number"
   ]
  },
  {
   "cell_type": "code",
   "execution_count": 12,
   "id": "6060fdc7",
   "metadata": {},
   "outputs": [
    {
     "name": "stdout",
     "output_type": "stream",
     "text": [
      "Enter a number: 124568\n",
      "The reverse of  is  865421\n"
     ]
    }
   ],
   "source": [
    "n = int(input(\"Enter a number: \"))\n",
    "reverse = 0\n",
    "while n > 0:\n",
    "    digit = n % 10\n",
    "    reverse = reverse * 10 + digit\n",
    "    n = n // 10\n",
    "print(\"The reverse of  is \", reverse)"
   ]
  },
  {
   "cell_type": "markdown",
   "id": "f38c0f39",
   "metadata": {},
   "source": [
    "## Que.13 Write a program to print the sum of reverse of a number."
   ]
  },
  {
   "cell_type": "code",
   "execution_count": 13,
   "id": "e4fec540",
   "metadata": {},
   "outputs": [
    {
     "name": "stdout",
     "output_type": "stream",
     "text": [
      "Enter a number.:45876\n",
      "Reverse of a given number is 67854\n",
      "The sum of a reverse of a number is 113730\n"
     ]
    }
   ],
   "source": [
    "i = int(input(\"Enter a number.:\"))\n",
    "rev = 0\n",
    "x = i\n",
    "while i > 0:\n",
    "    rev = (rev*10) + (i%10)  \n",
    "    i= i//10                  \n",
    "print(\"Reverse of a given number is\",rev)\n",
    "\n",
    "sum = x + rev\n",
    "\n",
    "print(\"The sum of a reverse of a number is\",sum)"
   ]
  },
  {
   "cell_type": "markdown",
   "id": "7648ecba",
   "metadata": {},
   "source": [
    "## Que. 14 Write a program to check whether a given number is prime or not."
   ]
  },
  {
   "cell_type": "code",
   "execution_count": 15,
   "id": "6188502a",
   "metadata": {},
   "outputs": [
    {
     "name": "stdout",
     "output_type": "stream",
     "text": [
      "Enter a number: 19\n",
      "19 is a prime number\n"
     ]
    }
   ],
   "source": [
    "n = int(input(\"Enter a number: \"))\n",
    "if n > 1:\n",
    "    for i in range(2, int(n/2) + 1):\n",
    "        if n % i == 0:\n",
    "            print(n, \"is not a prime number\")\n",
    "            break\n",
    "    else:\n",
    "        print(n, \"is a prime number\")\n",
    "else:\n",
    "    print(n, \"is not a prime number\")"
   ]
  },
  {
   "cell_type": "markdown",
   "id": "586bfe6b",
   "metadata": {},
   "source": [
    "## Que15. Write a program to print prime number between 1 to 100"
   ]
  },
  {
   "cell_type": "code",
   "execution_count": 16,
   "id": "57babbed",
   "metadata": {},
   "outputs": [
    {
     "name": "stdout",
     "output_type": "stream",
     "text": [
      "2 3 5 7 11 13 17 19 23 29 31 37 41 43 47 53 59 61 67 71 73 79 83 89 97 "
     ]
    }
   ],
   "source": [
    "def is_prime(n):\n",
    "    if n <= 1:\n",
    "        return False\n",
    "    for i in range(2, int(n**0.5) + 1):\n",
    "        if n % i == 0:\n",
    "            return False\n",
    "    return True\n",
    "\n",
    "\n",
    "for i in range(1, 101):\n",
    "    if is_prime(i):\n",
    "        print(i ,end=\" \")"
   ]
  },
  {
   "cell_type": "markdown",
   "id": "da5c3605",
   "metadata": {},
   "source": [
    "## Que.16 Write a program to print number in reverse order entered by the user"
   ]
  },
  {
   "cell_type": "code",
   "execution_count": 18,
   "id": "40c27ee5",
   "metadata": {},
   "outputs": [
    {
     "name": "stdout",
     "output_type": "stream",
     "text": [
      "Enter a number.:789645\n",
      "Reverse of a given number is 546987\n"
     ]
    }
   ],
   "source": [
    "i = int(input(\"Enter a number.:\"))\n",
    "rev = 0\n",
    "\n",
    "while i > 0:\n",
    "    rev = (rev*10) + (i%10)   \n",
    "    i= i//10                 \n",
    "print(\"Reverse of a given number is\",rev)"
   ]
  },
  {
   "cell_type": "markdown",
   "id": "a1e298ca",
   "metadata": {},
   "source": [
    "## Que17. Write a program to print the cube of all the numbers from 1 to the given number"
   ]
  },
  {
   "cell_type": "code",
   "execution_count": 1,
   "id": "573db980",
   "metadata": {},
   "outputs": [
    {
     "name": "stdout",
     "output_type": "stream",
     "text": [
      "Enter a number: 9\n",
      "Cubes of numbers from 1 to 9\n",
      "1 : 1\n",
      "2 : 8\n",
      "3 : 27\n",
      "4 : 64\n",
      "5 : 125\n",
      "6 : 216\n",
      "7 : 343\n",
      "8 : 512\n",
      "9 : 729\n"
     ]
    }
   ],
   "source": [
    "n = int(input(\"Enter a number: \"))\n",
    "print(\"Cubes of numbers from 1 to\", n)\n",
    "for i in range(1, n+1):\n",
    "    cube = i**3\n",
    "    print(i, \":\", cube)"
   ]
  },
  {
   "cell_type": "markdown",
   "id": "cae8c32a",
   "metadata": {},
   "source": [
    "## Que18. Write a program to count the total numbers of digits in a number"
   ]
  },
  {
   "cell_type": "code",
   "execution_count": 22,
   "id": "39f43118",
   "metadata": {},
   "outputs": [
    {
     "name": "stdout",
     "output_type": "stream",
     "text": [
      "Enter a number: 78549\n",
      "Total number of digits: 5\n"
     ]
    }
   ],
   "source": [
    "num = int(input(\"Enter a number: \"))\n",
    "count = 0\n",
    "while num != 0:\n",
    "    count += 1\n",
    "    num //= 10\n",
    "print(\"Total number of digits:\", count)"
   ]
  },
  {
   "cell_type": "markdown",
   "id": "5b93245d",
   "metadata": {},
   "source": [
    "## Que19. Write a program to print Fibonacci series"
   ]
  },
  {
   "cell_type": "code",
   "execution_count": 24,
   "id": "d01b8874",
   "metadata": {},
   "outputs": [
    {
     "name": "stdout",
     "output_type": "stream",
     "text": [
      "Enter the number of terms: 13\n",
      "Fibonacci series:\n",
      "0 1 1 2 3 5 8 13 21 34 55 89 144 "
     ]
    }
   ],
   "source": [
    "n = int(input(\"Enter the number of terms: \"))\n",
    "a, b = 0, 1\n",
    "print(\"Fibonacci series:\")\n",
    "for i in range(n):\n",
    "    print(a, end=\" \")\n",
    "    a, b = b, a+b"
   ]
  },
  {
   "cell_type": "markdown",
   "id": "4619b6c8",
   "metadata": {},
   "source": [
    "## Que20. Write a program to check whether a given number is Armstrong number or not"
   ]
  },
  {
   "cell_type": "code",
   "execution_count": 26,
   "id": "5b2a6cfd",
   "metadata": {},
   "outputs": [
    {
     "name": "stdout",
     "output_type": "stream",
     "text": [
      "Enter a number: 141\n",
      "141 is not an Armstrong number\n"
     ]
    }
   ],
   "source": [
    "num = int(input(\"Enter a number: \"))\n",
    "sum = 0\n",
    "count = 0\n",
    "temp = num\n",
    "while temp > 0:\n",
    "    count += 1\n",
    "    temp //= 10\n",
    "temp = num\n",
    "while temp > 0:\n",
    "    digit = temp % 10\n",
    "    sum += digit ** count\n",
    "    temp //= 10\n",
    "if num == sum:\n",
    "    print(num, \"is an Armstrong number\")\n",
    "else:\n",
    "    print(num, \"is not an Armstrong number\")"
   ]
  },
  {
   "cell_type": "markdown",
   "id": "71f268f8",
   "metadata": {},
   "source": [
    "## Que21. Write a program to check whether a given number is strong number or not"
   ]
  },
  {
   "cell_type": "code",
   "execution_count": 3,
   "id": "1012cca1",
   "metadata": {},
   "outputs": [
    {
     "name": "stdout",
     "output_type": "stream",
     "text": [
      "Enter a number: 143\n",
      "143 is not a Strong number\n"
     ]
    }
   ],
   "source": [
    "num = int(input(\"Enter a number: \"))\n",
    "temp = num\n",
    "sum = 0\n",
    "while temp > 0:\n",
    "    digit = temp % 10\n",
    "    fact = 1\n",
    "    for i in range(1, digit + 1):\n",
    "        fact *= i\n",
    "    sum += fact\n",
    "    temp //= 10\n",
    "\n",
    "\n",
    "if num == sum:\n",
    "    print(num, \"is a Strong number\")\n",
    "else:\n",
    "    print(num, \"is not a Strong number\")"
   ]
  },
  {
   "cell_type": "markdown",
   "id": "5b5127df",
   "metadata": {},
   "source": [
    "## Que22. Write a program to check whether a given number is perfect number or not"
   ]
  },
  {
   "cell_type": "code",
   "execution_count": 28,
   "id": "ee4f7af8",
   "metadata": {},
   "outputs": [
    {
     "name": "stdout",
     "output_type": "stream",
     "text": [
      "Enter a number: 159\n",
      "159 is not a Perfect number\n"
     ]
    }
   ],
   "source": [
    "num = int(input(\"Enter a number: \"))\n",
    "sum = 0\n",
    "for i in range(1, num):\n",
    "    if num % i == 0:\n",
    "        sum += i\n",
    "if num == sum:\n",
    "    print(num, \"is a Perfect number\")\n",
    "else:\n",
    "    print(num, \"is not a Perfect number\")"
   ]
  },
  {
   "cell_type": "markdown",
   "id": "8fb62f75",
   "metadata": {},
   "source": [
    "## Que 23. Write a program to find those numbers which are divisible by 7 and multiple of 5, between 1000 to 2000"
   ]
  },
  {
   "cell_type": "code",
   "execution_count": 30,
   "id": "5961bdd4",
   "metadata": {},
   "outputs": [
    {
     "name": "stdout",
     "output_type": "stream",
     "text": [
      "1015 , 1050 , 1085 , 1120 , 1155 , 1190 , 1225 , 1260 , 1295 , 1330 , 1365 , 1400 , 1435 , 1470 , 1505 , 1540 , 1575 , 1610 , 1645 , 1680 , 1715 , 1750 , 1785 , 1820 , 1855 , 1890 , 1925 , 1960 , 1995 , "
     ]
    }
   ],
   "source": [
    "for i in range(1000, 2001):\n",
    "    if i % 7 == 0 and i % 5 == 0:\n",
    "        print(i, end=\" , \")"
   ]
  },
  {
   "cell_type": "markdown",
   "id": "406692e2",
   "metadata": {},
   "source": [
    "## Que 24. Write a program to print the following Number patterns using a loop"
   ]
  },
  {
   "cell_type": "code",
   "execution_count": 1,
   "id": "d4d5944b",
   "metadata": {
    "scrolled": true
   },
   "outputs": [
    {
     "name": "stdout",
     "output_type": "stream",
     "text": [
      "Enter number rows needed.:  5\n",
      "1 \n",
      "1 2 \n",
      "1 2 3 \n",
      "1 2 3 4 \n",
      "1 2 3 4 5 \n"
     ]
    }
   ],
   "source": [
    "## a. Number Pattern 1\n",
    "\n",
    "n=int(input(\"Enter number rows needed.:  \"))\n",
    "for i in range(n):\n",
    "    for j in range(i+1):\n",
    "        print(j+1,end=\" \")\n",
    "    print()"
   ]
  },
  {
   "cell_type": "code",
   "execution_count": 4,
   "id": "178a1d2f",
   "metadata": {},
   "outputs": [
    {
     "name": "stdout",
     "output_type": "stream",
     "text": [
      "enter number rows needed. :  5\n",
      "1 \n",
      "2 1 \n",
      "3 2 1 \n",
      "4 3 2 1 \n",
      "5 4 3 2 1 \n"
     ]
    }
   ],
   "source": [
    "## b. Number Pattern 2\n",
    "n=int(input(\"enter number rows needed. :  \"))\n",
    "for i in range(n):\n",
    "    for j in range(i,-1,-1):\n",
    "        print(j+1,end= \" \")\n",
    "    print()"
   ]
  },
  {
   "cell_type": "code",
   "execution_count": 4,
   "id": "6cf20b9e",
   "metadata": {
    "scrolled": true
   },
   "outputs": [
    {
     "name": "stdout",
     "output_type": "stream",
     "text": [
      "Enter number rows needed.: 5\n",
      "5 4 3 2 1 \n",
      "5 4 3 2 \n",
      "5 4 3 \n",
      "5 4 \n",
      "5 \n"
     ]
    }
   ],
   "source": [
    "## c. Number Pattern 3\n",
    "n=int(input('Enter number rows needed.: '))\n",
    "for i in range(n):\n",
    "    for j in range(n-i):\n",
    "        print(n-j,end=\" \")\n",
    "    print()"
   ]
  },
  {
   "cell_type": "code",
   "execution_count": 2,
   "id": "75f927a2",
   "metadata": {},
   "outputs": [
    {
     "name": "stdout",
     "output_type": "stream",
     "text": [
      "Enter number rows needed.: 5\n",
      "1 2 3 4 5 \n",
      "1 2 3 4 \n",
      "1 2 3 \n",
      "1 2 \n",
      "1 \n"
     ]
    }
   ],
   "source": [
    "## d. Number Pattern 4\n",
    "n=int(input('Enter number rows needed.: '))\n",
    "for i in range(n,0,-1):\n",
    "    for j in range(1,i+1):\n",
    "        print(j,end=\" \")\n",
    "    print()"
   ]
  },
  {
   "cell_type": "code",
   "execution_count": 3,
   "id": "bbbe1940",
   "metadata": {},
   "outputs": [
    {
     "name": "stdout",
     "output_type": "stream",
     "text": [
      "Enter the Numbers of rows.:5\n",
      "5 4 3 2 1 \n",
      "4 3 2 1 \n",
      "3 2 1 \n",
      "2 1 \n",
      "1 \n"
     ]
    }
   ],
   "source": [
    "## e. Number Pattern 5\n",
    "n = int(input(\"Enter the Numbers of rows.:\")) \n",
    "for i in range(n,0,-1):\n",
    "    for j in range(i,0,-1):\n",
    "        print(j, end=\" \")\n",
    "    print()"
   ]
  },
  {
   "cell_type": "markdown",
   "id": "2b417b3e",
   "metadata": {},
   "source": [
    "## Que 25. Write a program to print the following star patterns using a loop"
   ]
  },
  {
   "cell_type": "code",
   "execution_count": 4,
   "id": "efaa00a7",
   "metadata": {},
   "outputs": [
    {
     "name": "stdout",
     "output_type": "stream",
     "text": [
      "Enter the Numbers of rows.:5\n",
      "      * \n",
      "      * * \n",
      "      * * * \n",
      "      * * * * \n",
      "      * * * * * \n"
     ]
    }
   ],
   "source": [
    "\n",
    "num = int(input(\"Enter the Numbers of rows.:\")) # Ask user input for rows.\n",
    "\n",
    "for i in range(num):\n",
    "    for j in range(num-1-1):\n",
    "        print(\" \",end=\" \")\n",
    "    for j in range(i+1):\n",
    "        print(\"*\",end=\" \")\n",
    "    print()"
   ]
  },
  {
   "cell_type": "code",
   "execution_count": 6,
   "id": "0cbab0b0",
   "metadata": {},
   "outputs": [
    {
     "name": "stdout",
     "output_type": "stream",
     "text": [
      "Enter the Numbers of Rows.:5\n",
      "Enter the Number of Columns.:4\n",
      "* * * * \n",
      "* * * * \n",
      "* * * * \n",
      "* * * * \n",
      "* * * * \n"
     ]
    }
   ],
   "source": [
    "\n",
    "r = int(input(\"Enter the Numbers of Rows.:\"))\n",
    "c = int(input(\"Enter the Number of Columns.:\"))\n",
    "\n",
    "for i in range(r):\n",
    "    for j in range(c):\n",
    "        print(\"*\",end = \" \")\n",
    "    print()"
   ]
  },
  {
   "cell_type": "code",
   "execution_count": 7,
   "id": "6d050e02",
   "metadata": {
    "scrolled": true
   },
   "outputs": [
    {
     "name": "stdout",
     "output_type": "stream",
     "text": [
      "Enter the Numbers of rows.:5\n",
      "* * * * * \n",
      "* * * * \n",
      "* * * \n",
      "* * \n",
      "* \n"
     ]
    }
   ],
   "source": [
    "\n",
    "num = int(input(\"Enter the Numbers of rows.:\")) # Ask user input for rows.\n",
    "\n",
    "for i in range(num,0,-1): # 'i' indicates the Rows. \n",
    "    for j in range(0,i): # 'j' indicates the Columns.\n",
    "        print(\"*\",end = \" \") # This will print * and end is used for not adding a new line.\n",
    "    print()"
   ]
  },
  {
   "cell_type": "code",
   "execution_count": 8,
   "id": "30c6e3d7",
   "metadata": {},
   "outputs": [
    {
     "name": "stdout",
     "output_type": "stream",
     "text": [
      "Enter the Numbers of rows.:5\n",
      "* * * * * \n",
      "  * * * * \n",
      "    * * * \n",
      "      * * \n",
      "        * \n"
     ]
    }
   ],
   "source": [
    "\n",
    "\n",
    "num = int(input(\"Enter the Numbers of rows.:\")) # Ask user input for rows.\n",
    "\n",
    "for i in range(1,num+1): # 'i' indicates the Rows. \n",
    "    for j in range(1,num+1): # 'j' indicates the Columns.\n",
    "        if j >= i:\n",
    "            print(\"*\",end = \" \") # To print \"*\"\n",
    "        else:\n",
    "            print(\" \",end = \" \") # To Give a space.\n",
    "    print()"
   ]
  },
  {
   "cell_type": "code",
   "execution_count": 9,
   "id": "8deeed91",
   "metadata": {},
   "outputs": [
    {
     "name": "stdout",
     "output_type": "stream",
     "text": [
      "Enter the Numbers of rows.:5\n",
      "        * \n",
      "      * * \n",
      "    * * * \n",
      "  * * * * \n",
      "* * * * * \n"
     ]
    }
   ],
   "source": [
    "\n",
    "\n",
    "num = int(input(\"Enter the Numbers of rows.:\")) # Ask user input for rows.\n",
    "\n",
    "for i in range(1,num+1):\n",
    "    for j in range(1,num+1):\n",
    "        if j<=n-i:\n",
    "            print(\" \", end=\" \")\n",
    "        else:\n",
    "            print(\"*\", end=\" \")\n",
    "    print()"
   ]
  },
  {
   "cell_type": "markdown",
   "id": "85bff741",
   "metadata": {},
   "source": [
    "## Que 27. Write a program to print the following alphabet patterns using a loop"
   ]
  },
  {
   "cell_type": "code",
   "execution_count": 10,
   "id": "50aa0f4c",
   "metadata": {},
   "outputs": [
    {
     "name": "stdout",
     "output_type": "stream",
     "text": [
      "Enter the Numbers of rows.:5\n",
      "A \n",
      "A B \n",
      "A B C \n",
      "A B C D \n",
      "A B C D E \n"
     ]
    }
   ],
   "source": [
    "n = int(input(\"Enter the Numbers of rows.:\")) # Ask user input for rows.\n",
    "for i in range(1, n+1):\n",
    "    for j in range(i):\n",
    "        print(chr(65+j), end=\" \")\n",
    "    print()"
   ]
  },
  {
   "cell_type": "code",
   "execution_count": 11,
   "id": "b01a67ea",
   "metadata": {},
   "outputs": [
    {
     "name": "stdout",
     "output_type": "stream",
     "text": [
      "Enter the Numbers of rows.:6\n",
      "A \n",
      "B B \n",
      "C C C \n",
      "D D D D \n",
      "E E E E E \n",
      "F F F F F F \n",
      "G G G G G G G \n"
     ]
    }
   ],
   "source": [
    "\n",
    "\n",
    "n = int(input(\"Enter the Numbers of rows.:\")) # Ask user input for rows.\n",
    "for i in range(0, n+1):\n",
    "    for j in range(i+1):\n",
    "        print(chr(65+i), end=\" \")\n",
    "    print()"
   ]
  },
  {
   "cell_type": "code",
   "execution_count": 12,
   "id": "1f5d9884",
   "metadata": {},
   "outputs": [
    {
     "name": "stdout",
     "output_type": "stream",
     "text": [
      "Enter the Numbers of rows.:5\n",
      "A B C D E \n",
      "A B C D \n",
      "A B C \n",
      "A B \n",
      "A \n"
     ]
    }
   ],
   "source": [
    "n = int(input(\"Enter the Numbers of rows.:\")) # Ask user input for rows.\n",
    "for i in range(n, 0, -1):\n",
    "    for j in range(i):\n",
    "        print(chr(65+j), end=\" \")\n",
    "    print()"
   ]
  },
  {
   "cell_type": "code",
   "execution_count": 13,
   "id": "b6b37b91",
   "metadata": {},
   "outputs": [
    {
     "name": "stdout",
     "output_type": "stream",
     "text": [
      "Enter the Numbers of rows.:5\n",
      "E E E E E \n",
      "D D D D \n",
      "C C C \n",
      "B B \n",
      "A \n"
     ]
    }
   ],
   "source": [
    "\n",
    "n = int(input(\"Enter the Numbers of rows.:\")) # Ask user input for rows.\n",
    "for i in range(n, 0, -1):\n",
    "    for j in range(i):\n",
    "        print(chr(64+i), end=\" \")\n",
    "    print()"
   ]
  },
  {
   "cell_type": "code",
   "execution_count": null,
   "id": "40c6f31d",
   "metadata": {},
   "outputs": [],
   "source": []
  }
 ],
 "metadata": {
  "kernelspec": {
   "display_name": "Python 3 (ipykernel)",
   "language": "python",
   "name": "python3"
  },
  "language_info": {
   "codemirror_mode": {
    "name": "ipython",
    "version": 3
   },
   "file_extension": ".py",
   "mimetype": "text/x-python",
   "name": "python",
   "nbconvert_exporter": "python",
   "pygments_lexer": "ipython3",
   "version": "3.10.9"
  }
 },
 "nbformat": 4,
 "nbformat_minor": 5
}
