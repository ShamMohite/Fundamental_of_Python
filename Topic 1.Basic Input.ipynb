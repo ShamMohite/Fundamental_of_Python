{
 "cells": [
  {
   "cell_type": "markdown",
   "id": "9aad7ef9",
   "metadata": {},
   "source": [
    "## Que1. Print your introduction."
   ]
  },
  {
   "cell_type": "code",
   "execution_count": 1,
   "id": "bbc6bcdf",
   "metadata": {},
   "outputs": [],
   "source": [
    "introduction =(\"My name is Sham Trimbakrao Moihte,I'm originally from Maharashtra,I have a bachelor's degree in Arts and currently work as a Clerk,I'm particularly skilled in data analysis\")"
   ]
  },
  {
   "cell_type": "code",
   "execution_count": 3,
   "id": "3ee0384f",
   "metadata": {
    "scrolled": true
   },
   "outputs": [
    {
     "name": "stdout",
     "output_type": "stream",
     "text": [
      "My name is Sham Trimbakrao Moihte,I'm originally from Maharashtra,I have a bachelor's degree in Arts and currently work as a Clerk,I'm particularly skilled in data analysis\n"
     ]
    }
   ],
   "source": [
    "print(introduction)"
   ]
  },
  {
   "cell_type": "markdown",
   "id": "2d2f9660",
   "metadata": {},
   "source": [
    "## Que 2. Write a program to perform the following operations: Addition, Subtraction, Multiplication, Division, Modulus, Exponent"
   ]
  },
  {
   "cell_type": "code",
   "execution_count": 1,
   "id": "10e4f88d",
   "metadata": {},
   "outputs": [
    {
     "name": "stdout",
     "output_type": "stream",
     "text": [
      "Enter the a value.:5\n",
      "Enter the b value.:6\n",
      "addition of given value is  11\n"
     ]
    }
   ],
   "source": [
    "## Addition\n",
    "\n",
    "a = int(input(\"Enter the a value.:\"))\n",
    "b= int(input(\"Enter the b value.:\"))\n",
    "\n",
    "add = a+b\n",
    "\n",
    "print(\"addition of given value is \",add)"
   ]
  },
  {
   "cell_type": "code",
   "execution_count": 3,
   "id": "276c2135",
   "metadata": {},
   "outputs": [
    {
     "name": "stdout",
     "output_type": "stream",
     "text": [
      "Enter the a value.:10\n",
      "Enter the b value.:5\n",
      "sub of given value is  5\n"
     ]
    }
   ],
   "source": [
    "### Subtraction\n",
    "\n",
    "a = int(input(\"Enter the a value.:\"))\n",
    "b= int(input(\"Enter the b value.:\"))\n",
    "\n",
    "sub = a-b\n",
    "\n",
    "print(\"sub of given value is \",sub)"
   ]
  },
  {
   "cell_type": "code",
   "execution_count": 5,
   "id": "0181df53",
   "metadata": {},
   "outputs": [
    {
     "name": "stdout",
     "output_type": "stream",
     "text": [
      "Enter the a value.:5\n",
      "Enter the b value.:4\n",
      "Multiplication of given value is 20\n"
     ]
    }
   ],
   "source": [
    "### Multiplication\n",
    "a = int(input(\"Enter the a value.:\"))\n",
    "b = int(input(\"Enter the b value.:\"))\n",
    "\n",
    "Multiplication = a*b\n",
    "\n",
    "print(\"Multiplication of given value is\",Multiplication)"
   ]
  },
  {
   "cell_type": "code",
   "execution_count": 6,
   "id": "18123a9d",
   "metadata": {},
   "outputs": [
    {
     "name": "stdout",
     "output_type": "stream",
     "text": [
      "Enter the a Value.:20\n",
      "Enter the b Value.:4\n",
      "Division of given value 5.0\n"
     ]
    }
   ],
   "source": [
    "### Division\n",
    "a = int(input(\"Enter the a Value.:\"))\n",
    "b = int(input(\"Enter the b Value.:\"))\n",
    "\n",
    "Div = a/b\n",
    "\n",
    "print(\"Division of given value\",Div)"
   ]
  },
  {
   "cell_type": "code",
   "execution_count": 7,
   "id": "bc1fba53",
   "metadata": {},
   "outputs": [
    {
     "name": "stdout",
     "output_type": "stream",
     "text": [
      "Enter the a Value.:20\n",
      "Enter the b Value.:5\n",
      "Modulus of given value 0\n"
     ]
    }
   ],
   "source": [
    "### Modulus\n",
    "a = int(input(\"Enter the a Value.:\"))\n",
    "b = int(input(\"Enter the b Value.:\"))\n",
    "\n",
    "Modulus = a%b\n",
    "print(\"Modulus of given value\",Modulus)"
   ]
  },
  {
   "cell_type": "code",
   "execution_count": 1,
   "id": "38bb41c0",
   "metadata": {},
   "outputs": [
    {
     "name": "stdout",
     "output_type": "stream",
     "text": [
      "Enter the a value.:2\n",
      "Enter the b value.:5\n",
      "Exp of given value is  32\n"
     ]
    }
   ],
   "source": [
    "### Exponent\n",
    "\n",
    "a = int(input(\"Enter the a value.:\"))\n",
    "b= int(input(\"Enter the b value.:\"))\n",
    "\n",
    "exp= a**b\n",
    "\n",
    "print(\"Exp of given value is \",exp)"
   ]
  },
  {
   "cell_type": "markdown",
   "id": "c086f319",
   "metadata": {},
   "source": [
    "## Que3. Write a program to swap two numbers. (use of 3rd variable)"
   ]
  },
  {
   "cell_type": "code",
   "execution_count": 4,
   "id": "4a7a947d",
   "metadata": {},
   "outputs": [
    {
     "name": "stdout",
     "output_type": "stream",
     "text": [
      "Enter number:10\n",
      "Enter number:20\n",
      "a value before swap 10\n",
      "b value before swap 20\n",
      "a value after swap 20\n",
      "b value after swap 10\n"
     ]
    }
   ],
   "source": [
    "a = int(input(\"Enter number:\"))\n",
    "b = int(input(\"Enter number:\"))\n",
    "\n",
    "print(\"a value before swap\",a)\n",
    "print(\"b value before swap\",b)\n",
    "\n",
    "Temp = a\n",
    "a = b\n",
    "b = Temp\n",
    "\n",
    "print(\"a value after swap\",a)\n",
    "print(\"b value after swap\",b)"
   ]
  },
  {
   "cell_type": "markdown",
   "id": "8406edeb",
   "metadata": {},
   "source": [
    "## Que 4. Write a program to swap two numbers w/o using 3rd variable."
   ]
  },
  {
   "cell_type": "code",
   "execution_count": 6,
   "id": "bbf912aa",
   "metadata": {},
   "outputs": [
    {
     "name": "stdout",
     "output_type": "stream",
     "text": [
      "Enter number:14\n",
      "Enter number:15\n",
      "a value before swap 14\n",
      "b value before swap 15\n",
      "a value after swap 15\n",
      "b value after swap 14\n"
     ]
    }
   ],
   "source": [
    "a = int(input(\"Enter number:\"))\n",
    "b = int(input(\"Enter number:\"))\n",
    "\n",
    "print(\"a value before swap\",a)\n",
    "print(\"b value before swap\",b)\n",
    "\n",
    "a,b =b,a\n",
    "\n",
    "print(\"a value after swap\",a)\n",
    "print(\"b value after swap\",b)"
   ]
  },
  {
   "cell_type": "markdown",
   "id": "698adc6e",
   "metadata": {},
   "source": [
    "## Que 5. Write a program to compute simple interest."
   ]
  },
  {
   "cell_type": "code",
   "execution_count": 2,
   "id": "6be1b725",
   "metadata": {},
   "outputs": [
    {
     "name": "stdout",
     "output_type": "stream",
     "text": [
      "Enter the principal Amount.:2500\n",
      "Enter the rate.:6\n",
      "Enter the rate.:9\n",
      "Simple interest is 1350.0\n"
     ]
    }
   ],
   "source": [
    "P=int(input(\"Enter the principal Amount.:\"))\n",
    "R=int(input(\"Enter the rate.:\"))\n",
    "T=int(input(\"Enter the rate.:\"))\n",
    "\n",
    "si =(P*R*T)/100\n",
    "print(\"Simple interest is\",si)"
   ]
  },
  {
   "cell_type": "markdown",
   "id": "3a40fe83",
   "metadata": {},
   "source": [
    "## Que 6. Write a program to find average of 5 numbers by user input"
   ]
  },
  {
   "cell_type": "code",
   "execution_count": 2,
   "id": "fa08c3c5",
   "metadata": {},
   "outputs": [
    {
     "name": "stdout",
     "output_type": "stream",
     "text": [
      "Enter the number1.:8\n",
      "Enter the number2.:9\n",
      "Enter the number3.:5\n",
      "Enter the Number4.:6\n",
      "Enter the number5.:2\n",
      "Average of given inputs 6.0\n"
     ]
    }
   ],
   "source": [
    "Number1=int(input(\"Enter the number1.:\"))\n",
    "Number2=int(input(\"Enter the number2.:\"))\n",
    "Number3=int(input(\"Enter the number3.:\"))\n",
    "Number4=int(input(\"Enter the Number4.:\"))\n",
    "Number5=int(input(\"Enter the number5.:\"))\n",
    "\n",
    "ava=(Number1+Number2+Number3+Number4+Number5)/5\n",
    "\n",
    "print(\"Average of given inputs\",ava)"
   ]
  },
  {
   "cell_type": "markdown",
   "id": "42dd8bca",
   "metadata": {},
   "source": [
    "## Que 7. Write a program to calculate the discriminant of the quadratic equation."
   ]
  },
  {
   "cell_type": "code",
   "execution_count": 3,
   "id": "bb3dc974",
   "metadata": {},
   "outputs": [
    {
     "name": "stdout",
     "output_type": "stream",
     "text": [
      "enter a value6\n",
      "enter b value8\n",
      "enter c value10\n",
      "the discriminant of the quadratic equation is -176\n"
     ]
    }
   ],
   "source": [
    "a = int(input(\"enter a value\"))\n",
    "b = int(input(\"enter b value\"))\n",
    "c = int(input(\"enter c value\"))\n",
    "\n",
    "dis = (b**2) - (4*a*c)\n",
    "\n",
    "print(\"the discriminant of the quadratic equation is\",dis)"
   ]
  },
  {
   "cell_type": "markdown",
   "id": "875caedd",
   "metadata": {},
   "source": [
    "## Que 8.Write a program to calculate the areas of Rectangle, Square, Triangle and Circle"
   ]
  },
  {
   "cell_type": "code",
   "execution_count": 5,
   "id": "99708ca6",
   "metadata": {},
   "outputs": [
    {
     "name": "stdout",
     "output_type": "stream",
     "text": [
      "Enter the l of Rectangle.:8\n",
      "Enter the w of Rectangle.:9\n",
      "the Area of Rectangle is 72\n"
     ]
    }
   ],
   "source": [
    "##1 Rectanle\n",
    "l=int(input(\"Enter the l of Rectangle.:\"))\n",
    "w=int(input(\"Enter the w of Rectangle.:\"))\n",
    "\n",
    "Rec =l*w\n",
    "\n",
    "print(\"the Area of Rectangle is\",Rec)"
   ]
  },
  {
   "cell_type": "code",
   "execution_count": 9,
   "id": "f59eb35e",
   "metadata": {},
   "outputs": [
    {
     "name": "stdout",
     "output_type": "stream",
     "text": [
      "Enter the side of square.:5\n",
      "The area of square is 25\n"
     ]
    }
   ],
   "source": [
    "##2 Square\n",
    "s=int(input(\"Enter the side of square.:\"))\n",
    "square =s**2\n",
    "print(\"The area of square is\",square)\n"
   ]
  },
  {
   "cell_type": "code",
   "execution_count": 13,
   "id": "52fecd6a",
   "metadata": {},
   "outputs": [
    {
     "name": "stdout",
     "output_type": "stream",
     "text": [
      "Enter the base of triangle.:4\n",
      "Enter the height of triangle.5\n",
      "the area of Triangle is 10.0\n"
     ]
    }
   ],
   "source": [
    "##3 Triangle\n",
    "Base=int(input(\"Enter the base of triangle.:\"))\n",
    "Height=int(input(\"Enter the height of triangle.\"))\n",
    "triangle=(Base*Height)/2\n",
    "print(\"the area of Triangle is\",triangle)"
   ]
  },
  {
   "cell_type": "code",
   "execution_count": 14,
   "id": "63f663ca",
   "metadata": {},
   "outputs": [
    {
     "name": "stdout",
     "output_type": "stream",
     "text": [
      "Enter the radius of Circle8\n",
      "The area of circle is 200.96\n"
     ]
    }
   ],
   "source": [
    "##4 Circle\n",
    "r=int(input(\"Enter the radius of Circle\"))\n",
    "pi=3.14\n",
    "circle =pi*r*r\n",
    "print(\"The area of circle is\",circle)"
   ]
  },
  {
   "cell_type": "markdown",
   "id": "153d590d",
   "metadata": {},
   "source": [
    "## Que.09. Write a program to calculate net salary of an employee whose basic salary is entered by the user, DA is 5% of basic salary HRA is 7% of basic salary and PF is 3% of basic salary."
   ]
  },
  {
   "cell_type": "code",
   "execution_count": 3,
   "id": "72ac9b1d",
   "metadata": {},
   "outputs": [
    {
     "name": "stdout",
     "output_type": "stream",
     "text": [
      "Enter Basic salary.:35000\n",
      "your Net salary is 38150.0\n"
     ]
    }
   ],
   "source": [
    "basic_salary = int(input(\"Enter Basic salary.:\"))\n",
    "da = basic_salary * 0.05\n",
    "hra = basic_salary * 0.07\n",
    "pf = basic_salary * 0.03\n",
    "net_salary = (basic_salary + da + hra) - (pf)\n",
    "print(\"your Net salary is\", net_salary)"
   ]
  },
  {
   "cell_type": "markdown",
   "id": "e405d5fe",
   "metadata": {},
   "source": [
    "## Que 10. Write a program to calculate power of number."
   ]
  },
  {
   "cell_type": "code",
   "execution_count": 18,
   "id": "6baa6190",
   "metadata": {},
   "outputs": [
    {
     "name": "stdout",
     "output_type": "stream",
     "text": [
      "Enter the base: 5\n",
      "Enter the exponent: 5\n",
      "5.0 to the power of 5.0 is 3125.0\n"
     ]
    }
   ],
   "source": [
    "base = float(input(\"Enter the base: \"))\n",
    "exponent = float(input(\"Enter the exponent: \"))\n",
    "result = pow(base, exponent)\n",
    "print(f\"{base} to the power of {exponent} is {result}\")"
   ]
  },
  {
   "cell_type": "markdown",
   "id": "9f095a22",
   "metadata": {},
   "source": [
    "## Que 11. Write a program to get the python version you are using."
   ]
  },
  {
   "cell_type": "code",
   "execution_count": 19,
   "id": "ab3860a0",
   "metadata": {},
   "outputs": [],
   "source": [
    "from platform import python_version"
   ]
  },
  {
   "cell_type": "code",
   "execution_count": 20,
   "id": "2809057d",
   "metadata": {},
   "outputs": [
    {
     "data": {
      "text/plain": [
       "'3.10.9'"
      ]
     },
     "execution_count": 20,
     "metadata": {},
     "output_type": "execute_result"
    }
   ],
   "source": [
    "python_version()"
   ]
  },
  {
   "cell_type": "code",
   "execution_count": 21,
   "id": "d5b47255",
   "metadata": {},
   "outputs": [
    {
     "data": {
      "text/plain": [
       "'3.10.9'"
      ]
     },
     "execution_count": 21,
     "metadata": {},
     "output_type": "execute_result"
    }
   ],
   "source": [
    "python_version()"
   ]
  },
  {
   "cell_type": "code",
   "execution_count": null,
   "id": "019312e0",
   "metadata": {},
   "outputs": [],
   "source": []
  }
 ],
 "metadata": {
  "kernelspec": {
   "display_name": "Python 3 (ipykernel)",
   "language": "python",
   "name": "python3"
  },
  "language_info": {
   "codemirror_mode": {
    "name": "ipython",
    "version": 3
   },
   "file_extension": ".py",
   "mimetype": "text/x-python",
   "name": "python",
   "nbconvert_exporter": "python",
   "pygments_lexer": "ipython3",
   "version": "3.10.9"
  }
 },
 "nbformat": 4,
 "nbformat_minor": 5
}
