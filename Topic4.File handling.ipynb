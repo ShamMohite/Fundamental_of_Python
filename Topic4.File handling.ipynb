{
 "cells": [
  {
   "cell_type": "markdown",
   "id": "df73e332",
   "metadata": {},
   "source": [
    "## Que.1. Write a program to read first 5 characters from the file (my_data.txt)"
   ]
  },
  {
   "cell_type": "code",
   "execution_count": 1,
   "id": "4ca5dff4",
   "metadata": {},
   "outputs": [],
   "source": [
    "F=open('my_data.txt')"
   ]
  },
  {
   "cell_type": "code",
   "execution_count": 2,
   "id": "a7092e0f",
   "metadata": {},
   "outputs": [
    {
     "data": {
      "text/plain": [
       "'Pytho'"
      ]
     },
     "execution_count": 2,
     "metadata": {},
     "output_type": "execute_result"
    }
   ],
   "source": [
    "F.read(5)"
   ]
  },
  {
   "cell_type": "code",
   "execution_count": 3,
   "id": "c821fe44",
   "metadata": {},
   "outputs": [],
   "source": [
    "F.close()"
   ]
  },
  {
   "cell_type": "markdown",
   "id": "823e8a3e",
   "metadata": {},
   "source": [
    "## Que 2. Write a program to read first line from the file (my_data.txt)."
   ]
  },
  {
   "cell_type": "code",
   "execution_count": 8,
   "id": "224b1d6e",
   "metadata": {},
   "outputs": [],
   "source": [
    "F=open('my_data.txt')"
   ]
  },
  {
   "cell_type": "code",
   "execution_count": 10,
   "id": "0df53a8f",
   "metadata": {},
   "outputs": [
    {
     "data": {
      "text/plain": [
       "[\"ython is a computer programming language often used to build websites and software, automate tasks, and conduct data analysis. Python is a general-purpose language, meaning it can be used to create a variety of different programs and isn't specialized for any specific problems.\"]"
      ]
     },
     "execution_count": 10,
     "metadata": {},
     "output_type": "execute_result"
    }
   ],
   "source": [
    "F.readlines(1)"
   ]
  },
  {
   "cell_type": "markdown",
   "id": "1b25a56b",
   "metadata": {},
   "source": [
    "## 3. Write a program to display number of lines in a file (my_data.txt)"
   ]
  },
  {
   "cell_type": "code",
   "execution_count": 15,
   "id": "71ed4265",
   "metadata": {},
   "outputs": [
    {
     "name": "stdout",
     "output_type": "stream",
     "text": [
      "Number of lines in a files (my_data.txt) is 2\n"
     ]
    }
   ],
   "source": [
    "f = open(\"my_data.txt\", \"r\")\n",
    "lines = f.readlines()\n",
    "print('Number of lines in a files (my_data.txt) is',len(lines))\n",
    "f.close()"
   ]
  },
  {
   "cell_type": "markdown",
   "id": "de7444f4",
   "metadata": {},
   "source": [
    "## Que 4. Write a program to display first line from the file (my_data.txt) using readlines()."
   ]
  },
  {
   "cell_type": "code",
   "execution_count": 1,
   "id": "539d9215",
   "metadata": {},
   "outputs": [
    {
     "data": {
      "text/plain": [
       "['Python is a computer programming language often used to build websites and software, automate tasks, and conduct data analysis. \\n']"
      ]
     },
     "execution_count": 1,
     "metadata": {},
     "output_type": "execute_result"
    }
   ],
   "source": [
    "f = open(\"my_data.txt\", \"r\")\n",
    "f.readlines(1)"
   ]
  },
  {
   "cell_type": "code",
   "execution_count": 3,
   "id": "2f284f25",
   "metadata": {},
   "outputs": [],
   "source": [
    "f.close()"
   ]
  },
  {
   "cell_type": "markdown",
   "id": "41498b12",
   "metadata": {},
   "source": [
    "## 5. Write a program to accept five names from the user and write in a file 'username.txt'"
   ]
  },
  {
   "cell_type": "code",
   "execution_count": 5,
   "id": "f3e2250f",
   "metadata": {
    "scrolled": true
   },
   "outputs": [
    {
     "name": "stdout",
     "output_type": "stream",
     "text": [
      "Enter first name.:  Aditya\n",
      "Enter Second name.:  Akshay\n",
      "Enter Third name.:  Rohit\n",
      "Enter Fourth name.:  Swapnil\n",
      "Enter Fifth name.:  Prasad\n"
     ]
    },
    {
     "data": {
      "text/plain": [
       "6"
      ]
     },
     "execution_count": 5,
     "metadata": {},
     "output_type": "execute_result"
    }
   ],
   "source": [
    "name1=input(\"Enter first name.:  \")\n",
    "name2=input(\"Enter Second name.:  \")\n",
    "name3=input(\"Enter Third name.:  \")\n",
    "name4=input(\"Enter Fourth name.:  \")\n",
    "name5=input(\"Enter Fifth name.:  \")\n",
    "f=open(\"username.txt\",'w')\n",
    "f.write( name1  )\n",
    "f.write( name2  )\n",
    "f.write( name3  )\n",
    "f.write( name4  )\n",
    "f.write( name5  )"
   ]
  },
  {
   "cell_type": "code",
   "execution_count": 6,
   "id": "d7d471f1",
   "metadata": {},
   "outputs": [],
   "source": [
    "f.close()"
   ]
  },
  {
   "cell_type": "code",
   "execution_count": 7,
   "id": "e0185b19",
   "metadata": {},
   "outputs": [],
   "source": [
    "f=open(\"username.txt\",'r')"
   ]
  },
  {
   "cell_type": "code",
   "execution_count": 8,
   "id": "1581cf0c",
   "metadata": {},
   "outputs": [
    {
     "name": "stdout",
     "output_type": "stream",
     "text": [
      "AdityaAkshayRohitSwapnilPrasad\n"
     ]
    }
   ],
   "source": [
    "print(f.read())"
   ]
  },
  {
   "cell_type": "markdown",
   "id": "c44a00d0",
   "metadata": {},
   "source": [
    "## Que 6. Write a program to accept five language names from the user and write in a file'language.txt'."
   ]
  },
  {
   "cell_type": "code",
   "execution_count": 10,
   "id": "e2171f7c",
   "metadata": {},
   "outputs": [
    {
     "name": "stdout",
     "output_type": "stream",
     "text": [
      "Enter first language name.:  Marathi\n",
      "Enter Second language name.:  Hindi\n",
      "Enter Third language name.:  Telgu\n",
      "Enter Fourth language name.:  Tamil\n",
      "Enter Fifth language name.:  Urdu\n"
     ]
    },
    {
     "data": {
      "text/plain": [
       "6"
      ]
     },
     "execution_count": 10,
     "metadata": {},
     "output_type": "execute_result"
    }
   ],
   "source": [
    "language1=input(\"Enter first language name.:  \")\n",
    "language2=input(\"Enter Second language name.:  \")\n",
    "language3=input(\"Enter Third language name.:  \")\n",
    "language4=input(\"Enter Fourth language name.:  \")\n",
    "language5=input(\"Enter Fifth language name.:  \")\n",
    "f=open(\"language.txt\",'w')\n",
    "f.write(language1 + '/n')\n",
    "f.write(language2 + '/n')\n",
    "f.write(language3 + '/n')\n",
    "f.write(language4 + '/n')\n",
    "f.write(language5 + '/n')"
   ]
  },
  {
   "cell_type": "code",
   "execution_count": 11,
   "id": "0c0fd60e",
   "metadata": {},
   "outputs": [],
   "source": [
    "f.close()"
   ]
  },
  {
   "cell_type": "code",
   "execution_count": 15,
   "id": "44f5178c",
   "metadata": {},
   "outputs": [],
   "source": [
    "f=open(\"language.txt\",'r')"
   ]
  },
  {
   "cell_type": "code",
   "execution_count": 16,
   "id": "2d4e2771",
   "metadata": {},
   "outputs": [
    {
     "name": "stdout",
     "output_type": "stream",
     "text": [
      "Marathi/nHindi/nTelgu/nTamil/nUrdu/n\n"
     ]
    }
   ],
   "source": [
    "print(f.read())"
   ]
  },
  {
   "cell_type": "markdown",
   "id": "876a81da",
   "metadata": {},
   "source": [
    "## que 7. Write a program to accept five hobbies from the user and write in a file 'hobby.txt' (each hobby should write in a separate line) without using write() function."
   ]
  },
  {
   "cell_type": "code",
   "execution_count": 19,
   "id": "03511793",
   "metadata": {},
   "outputs": [
    {
     "name": "stdout",
     "output_type": "stream",
     "text": [
      "Enter your hobby 1.: Playing cricket\n",
      "Playing cricket\n",
      "Enter your hobby 2.: listen music\n",
      "listen music\n",
      "Enter your hobby 3.: Reading\n",
      "Reading\n",
      "Enter your hobby 4.: Traveling\n",
      "Traveling\n",
      "Enter your hobby 5.: Trecking\n",
      "Trecking\n"
     ]
    }
   ],
   "source": [
    "f=open('hobby.txt','w')\n",
    "print(input('Enter your hobby 1.: '))\n",
    "print(input('Enter your hobby 2.: '))\n",
    "print(input('Enter your hobby 3.: '))\n",
    "print(input('Enter your hobby 4.: '))\n",
    "print(input('Enter your hobby 5.: '))"
   ]
  },
  {
   "cell_type": "markdown",
   "id": "ee41998b",
   "metadata": {},
   "source": [
    "## Que 8 Write a program to count the number of upper-case alphabets present in a text file \"article.txt\"."
   ]
  },
  {
   "cell_type": "code",
   "execution_count": 7,
   "id": "673c0671",
   "metadata": {},
   "outputs": [
    {
     "name": "stdout",
     "output_type": "stream",
     "text": [
      "In this article, you will learn what the nzpyida package is and how it could help machine learning engineers and data scientists execute their custom ML and analytics functions inside Netezza. Both Netezza on-prem and Netezza cloud versions support this functionality, offering the seamless One Netezza experience across platforms.\n",
      "The need for in-database analytics is well known. The power of harnessing MPP hardware for faster processing and the convenience of not moving the data out of database makes it very attractive for ML engineers and data scientists to run analytics inside an MPP database like Netezza\n"
     ]
    }
   ],
   "source": [
    "## article.txt Content\n",
    "\n",
    "f = open('article.txt','r')\n",
    "print(f.read())\n",
    "f.close()\n"
   ]
  },
  {
   "cell_type": "code",
   "execution_count": 9,
   "id": "3ae91bc2",
   "metadata": {},
   "outputs": [
    {
     "name": "stdout",
     "output_type": "stream",
     "text": [
      "The numbers of upper-case alphabet present in the text file “article.txt” is 20\n"
     ]
    }
   ],
   "source": [
    "count = 0\n",
    "f = open('article.txt','r')\n",
    "read = f.read()\n",
    "\n",
    "for i in range(len(read)):\n",
    "    if read [i].isupper():\n",
    "        count+=1\n",
    "\n",
    "print('The numbers of upper-case alphabet present in the text file “article.txt” is',count)\n",
    "\n",
    "f.close()"
   ]
  },
  {
   "cell_type": "markdown",
   "id": "fe417607",
   "metadata": {},
   "source": [
    "## Que9. Write a program to count the numbers of lower-case alphabet present in the text file “article.txt”"
   ]
  },
  {
   "cell_type": "code",
   "execution_count": 11,
   "id": "a1b3fb9b",
   "metadata": {},
   "outputs": [
    {
     "name": "stdout",
     "output_type": "stream",
     "text": [
      "In this article, you will learn what the nzpyida package is and how it could help machine learning engineers and data scientists execute their custom ML and analytics functions inside Netezza. Both Netezza on-prem and Netezza cloud versions support this functionality, offering the seamless One Netezza experience across platforms.\n",
      "The need for in-database analytics is well known. The power of harnessing MPP hardware for faster processing and the convenience of not moving the data out of database makes it very attractive for ML engineers and data scientists to run analytics inside an MPP database like Netezza\n"
     ]
    }
   ],
   "source": [
    "## article.txt Content\n",
    "\n",
    "f = open('article.txt','r')\n",
    "print(f.read())\n",
    "f.close()"
   ]
  },
  {
   "cell_type": "code",
   "execution_count": 13,
   "id": "d80f7604",
   "metadata": {},
   "outputs": [
    {
     "name": "stdout",
     "output_type": "stream",
     "text": [
      "The numbers of lower-case alphabet present in the text file “article.txt” is 492\n"
     ]
    }
   ],
   "source": [
    "count = 0\n",
    "f = open('article.txt','r')\n",
    "read = f.read()\n",
    "\n",
    "for i in range(len(read)):\n",
    "    if read [i].islower():\n",
    "        count+=1\n",
    "\n",
    "print('The numbers of lower-case alphabet present in the text file “article.txt” is',count)\n",
    "\n",
    "f.close()"
   ]
  },
  {
   "cell_type": "markdown",
   "id": "ba26eea8",
   "metadata": {},
   "source": [
    "## Que10. Write a program to count the words ‘to’ and ‘the’ present in the text file “article.txt”"
   ]
  },
  {
   "cell_type": "code",
   "execution_count": 14,
   "id": "9a03a363",
   "metadata": {},
   "outputs": [
    {
     "name": "stdout",
     "output_type": "stream",
     "text": [
      "Number of the word ‘to’ present in the text file “article.txt” is 1\n",
      "Number of the word ‘the’ present in the text file “article.txt” is 6\n"
     ]
    }
   ],
   "source": [
    "to_no = 0\n",
    "the_no = 0\n",
    "\n",
    "f = open('article.txt','r')\n",
    "list1 = f.readlines()\n",
    "\n",
    "for i in list1:\n",
    "    word = i.split()\n",
    "    for j in word:\n",
    "        if j == 'to' or j == 'To' or j == 'TO':\n",
    "            to_no+=1\n",
    "        elif j == 'the' or j =='The' or j == 'THE':\n",
    "            the_no +=1\n",
    "            \n",
    "print('Number of the word ‘to’ present in the text file “article.txt” is',to_no)\n",
    "print('Number of the word ‘the’ present in the text file “article.txt” is',the_no)\n",
    "            \n",
    "f.close() "
   ]
  },
  {
   "cell_type": "code",
   "execution_count": null,
   "id": "42993c18",
   "metadata": {},
   "outputs": [],
   "source": []
  }
 ],
 "metadata": {
  "kernelspec": {
   "display_name": "Python 3 (ipykernel)",
   "language": "python",
   "name": "python3"
  },
  "language_info": {
   "codemirror_mode": {
    "name": "ipython",
    "version": 3
   },
   "file_extension": ".py",
   "mimetype": "text/x-python",
   "name": "python",
   "nbconvert_exporter": "python",
   "pygments_lexer": "ipython3",
   "version": "3.10.9"
  }
 },
 "nbformat": 4,
 "nbformat_minor": 5
}
