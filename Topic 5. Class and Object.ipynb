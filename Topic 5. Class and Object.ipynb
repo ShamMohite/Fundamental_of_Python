{
 "cells": [
  {
   "cell_type": "markdown",
   "id": "84f75c36",
   "metadata": {},
   "source": [
    "## 1. Create a class called Rectangle with attributes such as width and height.Define methods to calculate the area and perimeter of the rectangle."
   ]
  },
  {
   "cell_type": "code",
   "execution_count": 1,
   "id": "93c2af1f",
   "metadata": {},
   "outputs": [],
   "source": [
    "class Rectangle: \n",
    "    def __init__(self, width, height): \n",
    "        self.width = width\n",
    "        self.height = height\n",
    "        \n",
    "    def calculate_area(self): # Area Calculation\n",
    "        print(f'1. The Area of Rectangle for width({self.width}) and height({self.height}) is ',self.width*self.height)\n",
    "        \n",
    "    def calculate_perimeter(self): # Perimeter Calculation\n",
    "        print(f'2. The Perimeter of Rectangle for width({self.width}) and height({self.height}) is ',2*(self.width+self.height))"
   ]
  },
  {
   "cell_type": "code",
   "execution_count": 12,
   "id": "f018fd87",
   "metadata": {},
   "outputs": [],
   "source": [
    "r = Rectangle(8,9)"
   ]
  },
  {
   "cell_type": "code",
   "execution_count": 13,
   "id": "8ad95861",
   "metadata": {},
   "outputs": [
    {
     "name": "stdout",
     "output_type": "stream",
     "text": [
      "1. The Area of Rectangle for width(8) and height(9) is  72\n",
      "2. The Perimeter of Rectangle for width(8) and height(9) is  34\n"
     ]
    }
   ],
   "source": [
    "r.calculate_area() \n",
    "r.calculate_perimeter()"
   ]
  },
  {
   "cell_type": "markdown",
   "id": "2711c258",
   "metadata": {},
   "source": [
    "## 2. Create a class called Circle with attributes such as radius. Define methods to calculate the area and circumference of the circle."
   ]
  },
  {
   "cell_type": "code",
   "execution_count": 7,
   "id": "9aa5cb40",
   "metadata": {},
   "outputs": [],
   "source": [
    "import math\n",
    "class Circle: \n",
    "    def __init__(self,radius): \n",
    "        self.radius = radius\n",
    "        \n",
    "    def calculate_area(self): \n",
    "        print(f'1. The Area of Circle for radius({self.radius}) is ',math.pi*self.radius*self.radius)\n",
    "        \n",
    "    def calculate_circumference(self): \n",
    "        print(f'2. The Circumference of Circle for radius({self.radius}) is ',2*math.pi*self.radius) "
   ]
  },
  {
   "cell_type": "code",
   "execution_count": 10,
   "id": "f158f707",
   "metadata": {},
   "outputs": [],
   "source": [
    "c = Circle(5)"
   ]
  },
  {
   "cell_type": "code",
   "execution_count": 11,
   "id": "7c7f4bb9",
   "metadata": {},
   "outputs": [
    {
     "name": "stdout",
     "output_type": "stream",
     "text": [
      "1. The Area of Circle for radius(5) is  78.53981633974483\n",
      "2. The Circumference of Circle for radius(5) is  31.41592653589793\n"
     ]
    }
   ],
   "source": [
    "c.calculate_area()\n",
    "c.calculate_circumference()"
   ]
  },
  {
   "cell_type": "markdown",
   "id": "d15364d6",
   "metadata": {},
   "source": [
    "## 3.Create a class called BankAccount with attributes such as balance and interest_rate. Define methods to deposit, withdraw, and calculate interest on the balance."
   ]
  },
  {
   "cell_type": "code",
   "execution_count": 15,
   "id": "69aef34b",
   "metadata": {},
   "outputs": [
    {
     "name": "stdout",
     "output_type": "stream",
     "text": [
      "The deposit, withdraw, and interest on the balance are as followings:\n",
      " \n",
      "1. The initial balance is 5000.\n",
      "2. There is a deposit of 3600 amount.\n",
      "3. There is a withdraw of 1200 amount.\n",
      "4. The interest on the balance is 35000.\n"
     ]
    }
   ],
   "source": [
    "class BankAccount:  \n",
    "    def __init__(self,balance,interest_rate): \n",
    "        self.balance = balance\n",
    "        self.interest_rate = interest_rate\n",
    "        print(\"The deposit, withdraw, and interest on the balance are as followings:\\n \")\n",
    "        print(f\"1. The initial balance is {self.balance}.\")\n",
    "        \n",
    "    def deposit(self,deposit_amount): \n",
    "        self.deposit_amount = deposit_amount\n",
    "        print(f'2. There is a deposit of {self.balance - self.deposit_amount} amount.')\n",
    "        \n",
    "    def withdraw(self,withdraw_amount): \n",
    "        self.withdraw_amount = withdraw_amount\n",
    "        print(f'3. There is a withdraw of {self.withdraw_amount} amount.')\n",
    "        \n",
    "    def calculate_interest(self):\n",
    "        print(f\"4. The interest on the balance is {self.balance*self.interest_rate}.\")  \n",
    "\n",
    "ba = BankAccount(5000,7)\n",
    "ba.deposit(1400)\n",
    "ba.withdraw(1200)\n",
    "ba.calculate_interest()"
   ]
  },
  {
   "cell_type": "markdown",
   "id": "1a2af4b6",
   "metadata": {},
   "source": [
    "## 4. Create a class called Person with attributes name ,age and gender .Include a method called Introduce that prints out a message introducing the person with their name, age and gender."
   ]
  },
  {
   "cell_type": "code",
   "execution_count": 16,
   "id": "e2f2e9a2",
   "metadata": {},
   "outputs": [
    {
     "name": "stdout",
     "output_type": "stream",
     "text": [
      "1. Name: Sham Mohite\n",
      "2. Age: 30\n",
      "3. Gender: male\n"
     ]
    }
   ],
   "source": [
    "class Person: \n",
    "    def __init__(self,name,age,gender): \n",
    "        self.name = name\n",
    "        self.age = age\n",
    "        self.gender = gender\n",
    "        \n",
    "    def Introduce(self):\n",
    "        print('1. Name:', self.name)\n",
    "        print('2. Age:', self.age)\n",
    "        print('3. Gender:', self.gender)\n",
    "p = Person('Sham Mohite',30,'male')\n",
    "p.Introduce()"
   ]
  },
  {
   "cell_type": "markdown",
   "id": "254f8255",
   "metadata": {},
   "source": [
    "## 5. Create a class called Vehicle with attributes make, model and year. Include a method called start_engine that prints out a message indicating that engine has started."
   ]
  },
  {
   "cell_type": "code",
   "execution_count": 17,
   "id": "a1ac6ec4",
   "metadata": {},
   "outputs": [
    {
     "name": "stdout",
     "output_type": "stream",
     "text": [
      "The engine has started.\n",
      "The engine is made by Safari and the model is TaTa 2007.\n"
     ]
    }
   ],
   "source": [
    "class Vehicle: \n",
    "    def __init__(self,make,model,year): \n",
    "        self.make = make\n",
    "        self.model = model\n",
    "        self.year = year\n",
    "        \n",
    "    def start_engine(self):\n",
    "        print(\"The engine has started.\")\n",
    "        print(f\"The engine is made by {self.make} and the model is {self.model} {self.year}.\")\n",
    "car = Vehicle(\"Safari\", \"TaTa\", 2007)\n",
    "car.start_engine()"
   ]
  },
  {
   "cell_type": "code",
   "execution_count": null,
   "id": "c904850b",
   "metadata": {},
   "outputs": [],
   "source": []
  }
 ],
 "metadata": {
  "kernelspec": {
   "display_name": "Python 3 (ipykernel)",
   "language": "python",
   "name": "python3"
  },
  "language_info": {
   "codemirror_mode": {
    "name": "ipython",
    "version": 3
   },
   "file_extension": ".py",
   "mimetype": "text/x-python",
   "name": "python",
   "nbconvert_exporter": "python",
   "pygments_lexer": "ipython3",
   "version": "3.10.9"
  }
 },
 "nbformat": 4,
 "nbformat_minor": 5
}
