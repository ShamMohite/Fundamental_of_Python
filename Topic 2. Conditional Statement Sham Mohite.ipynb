{
 "cells": [
  {
   "cell_type": "markdown",
   "id": "1feed924",
   "metadata": {},
   "source": [
    "## Que 1. Write a program to check whether a given number is even or odd"
   ]
  },
  {
   "cell_type": "code",
   "execution_count": 14,
   "id": "47e0281d",
   "metadata": {
    "scrolled": true
   },
   "outputs": [
    {
     "name": "stdout",
     "output_type": "stream",
     "text": [
      "Enter number.:6\n",
      "The given number is Even Number 6\n"
     ]
    }
   ],
   "source": [
    "a = int(input(\"Enter number.:\"))\n",
    "if a % 2 ==0:\n",
    "    print (\"The given number is Even Number\", a)\n",
    "    \n",
    "else:\n",
    "    print(\"The given number is odd number\", a)"
   ]
  },
  {
   "cell_type": "markdown",
   "id": "c310ea0d",
   "metadata": {},
   "source": [
    "## Que 2. Write a program to check whether an alphabet is a vowel or consonant."
   ]
  },
  {
   "cell_type": "code",
   "execution_count": 1,
   "id": "b2b59fb2",
   "metadata": {},
   "outputs": [
    {
     "name": "stdout",
     "output_type": "stream",
     "text": [
      "Enter an alphabet.:o\n",
      "The given alphabet is vowel.- o\n"
     ]
    }
   ],
   "source": [
    "a = input(\"Enter an alphabet.:\")\n",
    "vowel = (\"a\",\"e\",\"i\",\"o\",\"u\",\"A\",\"E\",\"I\",\"O\",\"U\")\n",
    "if a in vowel:\n",
    "    print(\"The given alphabet is vowel.-\",a)\n",
    "else:\n",
    "    print(\"The given alphabet is consonant.-\",a)"
   ]
  },
  {
   "cell_type": "markdown",
   "id": "7ae7e1dc",
   "metadata": {},
   "source": [
    "## Que 3. Write a program to check whether a person is eligible to vote or not."
   ]
  },
  {
   "cell_type": "code",
   "execution_count": 2,
   "id": "bd199170",
   "metadata": {},
   "outputs": [
    {
     "name": "stdout",
     "output_type": "stream",
     "text": [
      "Enter age.-45\n",
      "You are Eligible for Voting.- 45\n"
     ]
    }
   ],
   "source": [
    "age=int(input(\"Enter age.-\"))\n",
    "if age>=18:\n",
    "    print(\"You are Eligible for Voting.-\",age)\n",
    "else:\n",
    "    print(\"You are not Eligible for Voting.-\",age)"
   ]
  },
  {
   "cell_type": "markdown",
   "id": "8ca0dbc3",
   "metadata": {},
   "source": [
    "##  Que 4. Write a program to check whether a given number is positive, negative or zero."
   ]
  },
  {
   "cell_type": "code",
   "execution_count": 3,
   "id": "0f6bd41b",
   "metadata": {},
   "outputs": [
    {
     "name": "stdout",
     "output_type": "stream",
     "text": [
      "Enter the number:- 13\n",
      "Number is positive \n"
     ]
    }
   ],
   "source": [
    "num = int(input('Enter the number:- '))\n",
    "\n",
    "if num > 0:\n",
    "    print('Number is positive ')\n",
    "    \n",
    "elif num == 0:\n",
    "    print('Number is zero')\n",
    "    \n",
    "else:\n",
    "    print('Number is negative ')"
   ]
  },
  {
   "cell_type": "markdown",
   "id": "daeee04f",
   "metadata": {},
   "source": [
    "## Que 5. Write a program to check whether a given year is leap year or not."
   ]
  },
  {
   "cell_type": "code",
   "execution_count": 7,
   "id": "e3056234",
   "metadata": {},
   "outputs": [
    {
     "name": "stdout",
     "output_type": "stream",
     "text": [
      "Enter Year2024\n",
      "The given year is Leap year 2024\n"
     ]
    }
   ],
   "source": [
    "year = int(input(\"Enter Year\" ))\n",
    "if (year % 400 ==0) or (year % 4 ==0) and (year % 100 != 0):\n",
    "    print(\"The given year is Leap year\",year)\n",
    "else:\n",
    "    print(\"The given year is not leap year\",year)"
   ]
  },
  {
   "cell_type": "markdown",
   "id": "60b7afb2",
   "metadata": {},
   "source": [
    "## Que 6. Write a program to check a triangle is equilateral, isosceles or scalene"
   ]
  },
  {
   "cell_type": "code",
   "execution_count": 9,
   "id": "bd795076",
   "metadata": {},
   "outputs": [
    {
     "name": "stdout",
     "output_type": "stream",
     "text": [
      "Enter side1 of triangle.12\n",
      "Enter side2 of triangle.16\n",
      "Enter side3 of triangle.18\n",
      "The triangle is scalene\n"
     ]
    }
   ],
   "source": [
    "side1=int(input(\"Enter side1 of triangle.\"))\n",
    "side2=int(input(\"Enter side2 of triangle.\"))\n",
    "side3=int(input(\"Enter side3 of triangle.\"))\n",
    "if side1==side2==side3:\n",
    "    print(\"The triangle is equilateral\")\n",
    "elif side1==side2 or side2==side3 or side1==side3:\n",
    "    print(\"The triangle is isosceles\")\n",
    "else:\n",
    "    print(\"The triangle is scalene\")"
   ]
  },
  {
   "cell_type": "markdown",
   "id": "0151b458",
   "metadata": {},
   "source": [
    "## Que 7. Write a program to check whether after selling a product its profit or loss."
   ]
  },
  {
   "cell_type": "code",
   "execution_count": 12,
   "id": "eb72d1df",
   "metadata": {},
   "outputs": [
    {
     "name": "stdout",
     "output_type": "stream",
     "text": [
      "Enter purchased price of product. 2500\n",
      "Enter Selling price of product. 2700\n",
      "profit\n"
     ]
    }
   ],
   "source": [
    "purchased_value=int(input(\"Enter purchased price of product. \"))\n",
    "selling_price=int(input(\"Enter Selling price of product. \"))\n",
    "if purchased_value < selling_price:\n",
    "    print(\"profit\")\n",
    "elif purchased_value > selling_price:\n",
    "    print(\"Loss\")\n",
    "else:\n",
    "    print(\"no profit no loss\")"
   ]
  },
  {
   "cell_type": "markdown",
   "id": "63f744f5",
   "metadata": {},
   "source": [
    "##  Que 8. Write a program to enter two numbers and print the greatest number."
   ]
  },
  {
   "cell_type": "code",
   "execution_count": 17,
   "id": "32617392",
   "metadata": {},
   "outputs": [
    {
     "name": "stdout",
     "output_type": "stream",
     "text": [
      "Enter Number1.40\n",
      "Enter number2.=50\n",
      "number2 is greatest number\n"
     ]
    }
   ],
   "source": [
    "number1 =int(input(\"Enter Number1.\"))\n",
    "number2 =int(input(\"Enter number2.=\"))\n",
    "if number1>number2:\n",
    "    print(\"number1 is greatest number\")\n",
    "elif number1<number2:\n",
    "    print(\"number2 is greatest number\")\n",
    "else:\n",
    "    print(\"The numbers are equal\")"
   ]
  },
  {
   "cell_type": "markdown",
   "id": "2bfddf22",
   "metadata": {},
   "source": [
    "## Que 9. Write a program to enter two numbers and print the smallest number."
   ]
  },
  {
   "cell_type": "code",
   "execution_count": 8,
   "id": "bf5a684a",
   "metadata": {},
   "outputs": [
    {
     "name": "stdout",
     "output_type": "stream",
     "text": [
      "Enter number1.=40\n",
      "Enter number2.=30\n",
      "Number2 is smallest number\n"
     ]
    }
   ],
   "source": [
    "x = int(input(\"Enter number1.=\"))\n",
    "y = int(input(\"Enter number2.=\"))\n",
    "if x < y:\n",
    "    print(\"Number1 is smallest number\")\n",
    "elif y < x:\n",
    "    print(\"Number2 is smallest number\")\n",
    "else:\n",
    "    print(\"The numbers are equal\")"
   ]
  },
  {
   "cell_type": "markdown",
   "id": "8fec760b",
   "metadata": {},
   "source": [
    "## Que 10. Write a program to enter three numbers and print the greatest number."
   ]
  },
  {
   "cell_type": "code",
   "execution_count": 5,
   "id": "8f9f6196",
   "metadata": {},
   "outputs": [
    {
     "name": "stdout",
     "output_type": "stream",
     "text": [
      "Enter number1.=20\n",
      "Enter number2.=40\n",
      "Enter number3.=60\n",
      "number3 is greatest number 60\n"
     ]
    }
   ],
   "source": [
    "a=int(input(\"Enter number1.=\"))\n",
    "b=int(input(\"Enter number2.=\"))\n",
    "c=int(input(\"Enter number3.=\"))\n",
    "if a>b>c:\n",
    "    print(\"number1 is greatest number\",a)\n",
    "elif b>a>c:\n",
    "    print(\"number2 is greatest number\",b)\n",
    "elif c>b>a:\n",
    "    print(\"number3 is greatest number\",c)\n",
    "else:\n",
    "    print(\"All numbers are same\")"
   ]
  },
  {
   "cell_type": "markdown",
   "id": "94e3bcbd",
   "metadata": {},
   "source": [
    "## Que 11. Write a program to enter three numbers and print the smallest number."
   ]
  },
  {
   "cell_type": "code",
   "execution_count": 1,
   "id": "f3cad5d1",
   "metadata": {},
   "outputs": [
    {
     "name": "stdout",
     "output_type": "stream",
     "text": [
      "enter munber 1.:5\n",
      "enter number 2.:10\n",
      "enter number 3.:20\n",
      "x is smallest.\n"
     ]
    }
   ],
   "source": [
    "x = int(input(\"enter munber 1.:\"))\n",
    "y = int(input(\"enter number 2.:\"))\n",
    "z = int(input(\"enter number 3.:\"))\n",
    "if x<y and x<z:\n",
    "    print(\"x is smallest.\")\n",
    "elif y<x and y<z:\n",
    "    print(\"y is smallest.\")\n",
    "elif z<x and z<y:\n",
    "    print(\"z is smallest.\")\n",
    "else:\n",
    "    print(\"all numbers are eqaul.\")   "
   ]
  },
  {
   "cell_type": "markdown",
   "id": "5e34c8ee",
   "metadata": {},
   "source": [
    "## Que 12. Write a program to calculate the roots of quadratic equation."
   ]
  },
  {
   "cell_type": "code",
   "execution_count": 3,
   "id": "f553625a",
   "metadata": {},
   "outputs": [
    {
     "name": "stdout",
     "output_type": "stream",
     "text": [
      "Enter the coefficient a :10\n",
      "Enter the coefficient b :20\n",
      "Enter the coefficient c :30\n",
      "No Real Roots are there.\n"
     ]
    }
   ],
   "source": [
    "import math\n",
    "a = float(input(\"Enter the coefficient a :\"))\n",
    "b = float(input(\"Enter the coefficient b :\"))\n",
    "c = float(input(\"Enter the coefficient c :\"))\n",
    "d = (b**2) - (4*a*c)\n",
    "if d>0:\n",
    "    r1 = (-b + math.sqrt(d))/(2*a)\n",
    "    r2 = (-b - math.sqrt(d))/(2*a)\n",
    "    print(\"Roots are Real and Unequal.\",r1,\"and\",r2)\n",
    "elif d ==0:\n",
    "    r1 = -b/(2*a)\n",
    "    print(\"Roots are Real and same.\",r1)\n",
    "else:\n",
    "    print(\"No Real Roots are there.\")"
   ]
  },
  {
   "cell_type": "markdown",
   "id": "81bd791c",
   "metadata": {},
   "source": [
    "## Que 13. Write a program to enter a number between (1 – 7) and print the respective day of the "
   ]
  },
  {
   "cell_type": "code",
   "execution_count": 8,
   "id": "f1998ab8",
   "metadata": {},
   "outputs": [
    {
     "name": "stdout",
     "output_type": "stream",
     "text": [
      "Enter a number.  1\n",
      "Monday\n"
     ]
    }
   ],
   "source": [
    "a=int(input(\"Enter a number.  \"))\n",
    "if a ==1:\n",
    "    print(\"Monday\")\n",
    "elif a==2:\n",
    "    print(\"Tuesday\")\n",
    "elif a==3:\n",
    "    print(\"Wednesday\")\n",
    "elif a==4:\n",
    "    print(\"Thursday\")\n",
    "elif a==5:\n",
    "    print(\"Friday\")\n",
    "elif a==6:\n",
    "    print(\"Saturday\")\n",
    "elif a==7:\n",
    "    print(\"Sunday\")\n",
    "else:\n",
    "    print(\"Check number,Enter correct number to display day of the week\")"
   ]
  },
  {
   "cell_type": "markdown",
   "id": "356ddb87",
   "metadata": {},
   "source": [
    "## Que 14. Write a program to enter a number between (1 – 12) and print the respective months."
   ]
  },
  {
   "cell_type": "code",
   "execution_count": 8,
   "id": "52d51122",
   "metadata": {},
   "outputs": [
    {
     "name": "stdout",
     "output_type": "stream",
     "text": [
      "Enter Number to display month.  9\n",
      "September\n"
     ]
    }
   ],
   "source": [
    "num =int(input(\"Enter Number to display month\"))\n",
    "if num==1:\n",
    "    print(\"January\")\n",
    "elif num==2:\n",
    "    print(\"February\")\n",
    "elif num==3:\n",
    "    print(\"March\")\n",
    "elif num==4:\n",
    "    print(\"April\")\n",
    "elif num==5:\n",
    "    print(\"May\")\n",
    "elif num==4:\n",
    "    print(\"June\")\n",
    "elif num==7:\n",
    "    print(\"July\")\n",
    "elif num==8:\n",
    "    print(\"August\")\n",
    "elif num==9:\n",
    "    print(\"September\")\n",
    "elif num==10:\n",
    "    print(\"October\")\n",
    "elif num==11:\n",
    "    print(\"November\")\n",
    "elif num==12:\n",
    "    print(\"December\")\n",
    "else:\n",
    "    print(\"Check Number\")"
   ]
  },
  {
   "cell_type": "markdown",
   "id": "cf8d6157",
   "metadata": {},
   "source": [
    "## Que 15. Write a program to enter a number between (1 – 4) and perform the following functions.\n",
    "1.Addition\n",
    "2.Subtraction\n",
    "3.Multiplication\n",
    "4.Division"
   ]
  },
  {
   "cell_type": "code",
   "execution_count": 14,
   "id": "67267e00",
   "metadata": {},
   "outputs": [
    {
     "name": "stdout",
     "output_type": "stream",
     "text": [
      "Enter a number between 1 and 4: 3\n",
      "Enter number 1 : 4\n",
      "Enter number 2 : 3\n",
      "Multiplication\n",
      "Multiplication of given numbers is:  12\n"
     ]
    }
   ],
   "source": [
    "num = int(input(\"Enter a number between 1 and 4: \"))\n",
    "a = int(input(\"Enter number 1 : \"))\n",
    "b = int(input(\"Enter number 2 : \"))\n",
    "## Addition\n",
    "if num == 1:\n",
    "    print(\"Addition\")\n",
    "    add = a + b\n",
    "    print(\"Addition of given numbers is: \", add)\n",
    "    \n",
    "## Subtraction    \n",
    "\n",
    "elif num == 2:\n",
    "    print(\"Subtraction\")\n",
    "    sub = a - b\n",
    "    print(\"Subtraction of given numbers is: \", sub)\n",
    "    \n",
    "## Multiplication\n",
    "\n",
    "elif num == 3:\n",
    "    print(\"Multiplication\")\n",
    "    Multiplication = a * b\n",
    "    print(\"Multiplication of given numbers is: \",Multiplication)\n",
    "    \n",
    "## Division\n",
    "\n",
    "elif num==4:\n",
    "    print(\"Division\")\n",
    "    division = a/b\n",
    "    print(\"Division of given number is. \",division)\n",
    "else:\n",
    "    print(\"enter correct number\")"
   ]
  },
  {
   "cell_type": "markdown",
   "id": "2048984e",
   "metadata": {},
   "source": [
    "## Que 16. Write a program to covert Temperature to and from Celsius, Fahrenheit."
   ]
  },
  {
   "cell_type": "code",
   "execution_count": 19,
   "id": "9001bfdc",
   "metadata": {},
   "outputs": [
    {
     "name": "stdout",
     "output_type": "stream",
     "text": [
      "Enter temperature in Celsius: 37\n",
      "The temp in fahrenheit 98.60000000000001\n",
      "Enter temperature in Fahrenheit: 96\n",
      "The temp in celsius. 35.55555555555556\n"
     ]
    }
   ],
   "source": [
    "# Convert Celsius to Fahrenheit\n",
    "celsius = float(input(\"Enter temperature in Celsius: \"))\n",
    "fahrenheit = (celsius * 1.8) + 32\n",
    "print(\"The temp in fahrenheit\",fahrenheit)\n",
    "\n",
    "# Convert Fahrenheit to Celsius\n",
    "fahrenheit = float(input(\"Enter temperature in Fahrenheit: \"))\n",
    "celsius = (fahrenheit - 32) / 1.8 \n",
    "print(\"The temp in celsius.\",celsius)\n"
   ]
  },
  {
   "cell_type": "markdown",
   "id": "329d5db0",
   "metadata": {},
   "source": [
    "## Que 17. A company decides to give bonus of 5% to employee if his/her year of service is more than 5 years. Ask user for their salary and year of service and print the net bonus amount"
   ]
  },
  {
   "cell_type": "code",
   "execution_count": 3,
   "id": "f4997acf",
   "metadata": {},
   "outputs": [
    {
     "name": "stdout",
     "output_type": "stream",
     "text": [
      "Enter your salary.  55000\n",
      "Enter year of service. 7\n",
      "Your net bonus is.   2750.0\n"
     ]
    }
   ],
   "source": [
    "salary=float(input(\"Enter your salary.  \"))\n",
    "year_of_service=int(input(\"Enter year of service. \"))\n",
    "net_bonus=(salary*0.05)\n",
    "if year_of_service > 5:\n",
    "    print(\"Your net bonus is.  \",net_bonus)\n",
    "else:\n",
    "    print(\"Sorry, Your year of service is not eligible for bonus\")"
   ]
  },
  {
   "cell_type": "markdown",
   "id": "14f004fa",
   "metadata": {},
   "source": [
    "##  Que 18. Write a program to take input of length and breadth of a rectangle from user and check if it is square or not."
   ]
  },
  {
   "cell_type": "code",
   "execution_count": 4,
   "id": "8273ea78",
   "metadata": {},
   "outputs": [
    {
     "name": "stdout",
     "output_type": "stream",
     "text": [
      "Enter length of rectangle.  10\n",
      "Enter breadth of rectangle. 10\n",
      "rectangle is square\n"
     ]
    }
   ],
   "source": [
    "length =int(input(\"Enter length of rectangle.  \"))\n",
    "breadth=int(input(\"Enter breadth of rectangle. \"))\n",
    "if length == breadth:\n",
    "    print(\"rectangle is square\")\n",
    "else:\n",
    "    print(\"rectangle is not square\")"
   ]
  },
  {
   "cell_type": "markdown",
   "id": "fb189564",
   "metadata": {},
   "source": [
    "## Que 19. Take input of age of 3 people from user and determine oldest and youngest among them."
   ]
  },
  {
   "cell_type": "code",
   "execution_count": 25,
   "id": "8c9a5b5e",
   "metadata": {},
   "outputs": [
    {
     "name": "stdout",
     "output_type": "stream",
     "text": [
      "Enter age Person 1: 50\n",
      "Enter age Person 2: 40\n",
      "Enter age Person 3: 30\n",
      "Person 1 is the oldest\n",
      "Person 3 is the youngest\n"
     ]
    }
   ],
   "source": [
    "person1 = int(input(\"Enter age Person 1: \"))\n",
    "person2 = int(input(\"Enter age Person 2: \"))\n",
    "person3 = int(input(\"Enter age Person 3: \"))\n",
    "\n",
    "if (person1 > person2) and (person1 > person3):\n",
    "    print('Person 1 is the oldest')\n",
    "    if person2 < person3:\n",
    "        print('Person 2 is the youngest')\n",
    "    else:\n",
    "        print('Person 3 is the youngest')\n",
    "elif (person2 > person1) and (person2 > person3):\n",
    "    print('Person 2 is the oldest')\n",
    "    if person1 < person3:\n",
    "        print('Person 1 is the youngest')\n",
    "    else:\n",
    "        print('Person 3 is the youngest')\n",
    "elif (person3 > person1) and (person3>person2):\n",
    "    print('Person 3 is the oldest')\n",
    "    if person1 < person2:\n",
    "        print('Person 1 is the youngest')\n",
    "    else:\n",
    "        print('Person 2 is the youngest')\n",
    "else:\n",
    "    print(\"All the person are same age\")"
   ]
  },
  {
   "cell_type": "markdown",
   "id": "aaa16f2f",
   "metadata": {},
   "source": [
    "## Que 20. A school has following rules for grading system: a. Below 25 – F b. 25 to 45 – E c. 45 to 50 – D d. 50 to 60 – C e. 60 to 80 – B f. Above 80 – A Ask user to enter their marks and print corresponding grades."
   ]
  },
  {
   "cell_type": "code",
   "execution_count": 24,
   "id": "cbe2f104",
   "metadata": {},
   "outputs": [
    {
     "name": "stdout",
     "output_type": "stream",
     "text": [
      "Enter your marks.   90\n",
      "you got grade is A\n"
     ]
    }
   ],
   "source": [
    "marks =int(input(\"Enter your marks.   \"))\n",
    "if marks < 25: \n",
    "    print(\"you Fail\")\n",
    "elif marks >=25 and marks<45:\n",
    "    print(\"You got grade is E\")\n",
    "elif marks>=45 and marks<50:\n",
    "    print(\"you got grade is D\")\n",
    "elif marks>=50 and marks < 60:\n",
    "    print(\"you got grade is C\")\n",
    "elif marks>=60 and marks<80:\n",
    "    print(\"you got grade is B\")\n",
    "elif marks>=80 and marks<=100:\n",
    "    print(\"you got grade is A\")\n",
    "else:\n",
    "    print(\"Enter correct Marks\")"
   ]
  },
  {
   "cell_type": "code",
   "execution_count": null,
   "id": "666345e5",
   "metadata": {},
   "outputs": [],
   "source": []
  }
 ],
 "metadata": {
  "kernelspec": {
   "display_name": "Python 3 (ipykernel)",
   "language": "python",
   "name": "python3"
  },
  "language_info": {
   "codemirror_mode": {
    "name": "ipython",
    "version": 3
   },
   "file_extension": ".py",
   "mimetype": "text/x-python",
   "name": "python",
   "nbconvert_exporter": "python",
   "pygments_lexer": "ipython3",
   "version": "3.10.9"
  }
 },
 "nbformat": 4,
 "nbformat_minor": 5
}
