{
 "cells": [
  {
   "cell_type": "markdown",
   "id": "96d0c59a",
   "metadata": {},
   "source": [
    "## 1. Create a class called Employee that inherits from the Person class. The Employee class should have an additional attribute called employee _id and a method called display employee info that prints out the employee’s name ,age ,gender and employee id."
   ]
  },
  {
   "cell_type": "code",
   "execution_count": 1,
   "id": "57dde4b1",
   "metadata": {},
   "outputs": [],
   "source": [
    "class Person:\n",
    "    def __init__(self,name,age,gender):\n",
    "        self.name = name\n",
    "        self.age = age\n",
    "        self.gender = gender\n",
    "    def show(self):\n",
    "        print(f'''The Person Details are as follows:\n",
    "1. Name = {self.name}\n",
    "2. Age = {self.age}\n",
    "3. Gender = {self.gender}''')\n",
    "        \n",
    "class Employee(Person):\n",
    "    def __init__(self,name,age,gender,employee_id):\n",
    "        Person.__init__(self,name,age,gender)\n",
    "        self.employee_id = employee_id\n",
    "    def display_employee_info(self):\n",
    "        print(f'''The Person Details are as follows:\n",
    "1. Name = {self.name}\n",
    "2. Age = {self.age}\n",
    "3. Gender = {self.gender}\n",
    "4. employee_id = {self.employee_id}''')"
   ]
  },
  {
   "cell_type": "code",
   "execution_count": 2,
   "id": "c739b10f",
   "metadata": {},
   "outputs": [
    {
     "name": "stdout",
     "output_type": "stream",
     "text": [
      "The Person Details are as follows:\n",
      "1. Name = Sham\n",
      "2. Age = 30\n",
      "3. Gender = Male\n",
      "4. employee_id = 21\n"
     ]
    }
   ],
   "source": [
    "e = Employee(\"Sham\",30,\"Male\",\"21\")\n",
    "e.display_employee_info()"
   ]
  },
  {
   "cell_type": "markdown",
   "id": "2e84669a",
   "metadata": {},
   "source": [
    "## 2. Create a class called Car that inherits from the Vehicle class. The Car class should have an additional attribute called num_doors and a method called lock _doors that prints out a message indicating that the doors have been locked."
   ]
  },
  {
   "cell_type": "code",
   "execution_count": 3,
   "id": "c98e484f",
   "metadata": {},
   "outputs": [],
   "source": [
    "class Vehicle:  \n",
    "    def __init__(self,make,model,year): \n",
    "        self.make = make\n",
    "        self.model = model\n",
    "        self.year = year\n",
    "    def show(self):\n",
    "        print(f\"The Vehicle is made by {self.make}, with model {self.model}{self.year}\")\n",
    "        \n",
    "class Car(Vehicle):\n",
    "    def __init__(self,make,model,year,num_doors):\n",
    "        Vehicle.__init__(self,make,model,year)\n",
    "        self.num_doors = num_doors\n",
    "    def lock_doors(self):\n",
    "        print(\"The doors have been locked.\")\n",
    "        \n",
    "               \n",
    "        print(f\"The car has {self.num_doors} numbers of doors.\")"
   ]
  },
  {
   "cell_type": "code",
   "execution_count": 4,
   "id": "dbab6df1",
   "metadata": {},
   "outputs": [
    {
     "name": "stdout",
     "output_type": "stream",
     "text": [
      "The Vehicle is made by Jeep, with model Duster2015\n",
      "The doors have been locked.\n",
      "The car has 1 numbers of doors.\n"
     ]
    }
   ],
   "source": [
    "C = Car(\"Jeep\", \"Duster\", 2015,1)\n",
    "C.show()\n",
    "C.lock_doors()"
   ]
  },
  {
   "cell_type": "markdown",
   "id": "a3aa5fb5",
   "metadata": {},
   "source": [
    "## 3. Create a class called Cylinder that inherits from the Circle class. The Cylinder class should have an additional attribute called height and a method called get_volume that calculates and returns the volume of the cylinder."
   ]
  },
  {
   "cell_type": "code",
   "execution_count": 5,
   "id": "bc496b6b",
   "metadata": {},
   "outputs": [],
   "source": [
    "import math\n",
    "\n",
    "class Circle:  \n",
    "    def __init__(self,radius): \n",
    "        self.radius = radius\n",
    "        \n",
    "class Cylinder(Circle):\n",
    "    def __init__(self,radius,height):\n",
    "        Circle.__init__(self,radius)\n",
    "        self.height = height\n",
    "    def get_volume(self):\n",
    "        print(f'1. The Volume of Circle for height({self.height}) is ',math.pi*self.radius*self.radius*self.height)"
   ]
  },
  {
   "cell_type": "code",
   "execution_count": 7,
   "id": "2f84d66f",
   "metadata": {},
   "outputs": [
    {
     "name": "stdout",
     "output_type": "stream",
     "text": [
      "1. The Volume of Circle for height(7) is  549.7787143782139\n"
     ]
    }
   ],
   "source": [
    "C = Cylinder(5,7)\n",
    "C.get_volume()"
   ]
  },
  {
   "cell_type": "code",
   "execution_count": null,
   "id": "63663ad6",
   "metadata": {},
   "outputs": [],
   "source": []
  }
 ],
 "metadata": {
  "kernelspec": {
   "display_name": "Python 3 (ipykernel)",
   "language": "python",
   "name": "python3"
  },
  "language_info": {
   "codemirror_mode": {
    "name": "ipython",
    "version": 3
   },
   "file_extension": ".py",
   "mimetype": "text/x-python",
   "name": "python",
   "nbconvert_exporter": "python",
   "pygments_lexer": "ipython3",
   "version": "3.10.9"
  }
 },
 "nbformat": 4,
 "nbformat_minor": 5
}
